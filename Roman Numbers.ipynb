{
 "cells": [
  {
   "cell_type": "code",
   "execution_count": 1,
   "id": "285dc000",
   "metadata": {},
   "outputs": [],
   "source": [
    "Dic = {'I': 1,\n",
    "      'V': 5,\n",
    "      'X': 10,\n",
    "      'L': 50,\n",
    "      'C': 100,\n",
    "      'D': 500,\n",
    "      'M': 1000}"
   ]
  },
  {
   "cell_type": "code",
   "execution_count": 2,
   "id": "ea14e7aa",
   "metadata": {},
   "outputs": [],
   "source": [
    "rNumber = 'MCMXCIII' \n"
   ]
  },
  {
   "cell_type": "code",
   "execution_count": 3,
   "id": "fc2c5d98",
   "metadata": {},
   "outputs": [
    {
     "data": {
      "text/plain": [
       "[1000, 100, 1000, 10, 100, 1, 1, 1]"
      ]
     },
     "execution_count": 3,
     "metadata": {},
     "output_type": "execute_result"
    }
   ],
   "source": [
    "rlst = []\n",
    "for v in rNumber:\n",
    "    rlst.append(Dic[v])\n",
    "    \n",
    "    \n",
    "rlst"
   ]
  },
  {
   "cell_type": "code",
   "execution_count": 4,
   "id": "2b9c2d20",
   "metadata": {},
   "outputs": [],
   "source": [
    "lstlst =[]\n",
    "i = 0\n",
    "while i < len(rlst)-1:\n",
    "    if rlst[i] < rlst[i+1]:\n",
    "        duble =[rlst[i], rlst[i+1]]\n",
    "        lstlst.append(duble)\n",
    "        i += 2\n",
    "    else:\n",
    "        sul = [rlst[i]]\n",
    "        i += 1\n",
    "        lstlst.append(sul)\n",
    "lstlst.append([rlst[len(rlst)-1]])"
   ]
  },
  {
   "cell_type": "code",
   "execution_count": 5,
   "id": "a2ecb97c",
   "metadata": {},
   "outputs": [
    {
     "data": {
      "text/plain": [
       "[[1000], [100, 1000], [10, 100], [1], [1], [1]]"
      ]
     },
     "execution_count": 5,
     "metadata": {},
     "output_type": "execute_result"
    }
   ],
   "source": [
    "lstlst"
   ]
  },
  {
   "cell_type": "code",
   "execution_count": 6,
   "id": "50524f3b",
   "metadata": {},
   "outputs": [
    {
     "name": "stdout",
     "output_type": "stream",
     "text": [
      "1993\n"
     ]
    }
   ],
   "source": [
    "#with for loop\n",
    "val = 0\n",
    "for i in lstlst:\n",
    "    if len(i) == 2:\n",
    "        val += (i[1] - i[0])\n",
    "    else:\n",
    "        val += i[0]\n",
    "        \n",
    "print(val)\n"
   ]
  },
  {
   "cell_type": "code",
   "execution_count": 9,
   "id": "ffff12b3",
   "metadata": {},
   "outputs": [
    {
     "data": {
      "text/plain": [
       "1993"
      ]
     },
     "execution_count": 9,
     "metadata": {},
     "output_type": "execute_result"
    }
   ],
   "source": [
    "## with while loop\n",
    "\n",
    "val = 0\n",
    "i = 0\n",
    "while i < len(rlst)-1:\n",
    "    if rlst[i] < rlst[i+1]:\n",
    "        val += (rlst[i+1] - rlst[i])\n",
    "        i += 2\n",
    "    else:\n",
    "        val += rlst[i]\n",
    "        i += 1\n",
    "\n",
    "val += rlst[len(rlst)-1]\n",
    "val"
   ]
  },
  {
   "cell_type": "code",
   "execution_count": null,
   "id": "5f5173a2",
   "metadata": {},
   "outputs": [],
   "source": []
  }
 ],
 "metadata": {
  "kernelspec": {
   "display_name": "Python 3",
   "language": "python",
   "name": "python3"
  },
  "language_info": {
   "codemirror_mode": {
    "name": "ipython",
    "version": 3
   },
   "file_extension": ".py",
   "mimetype": "text/x-python",
   "name": "python",
   "nbconvert_exporter": "python",
   "pygments_lexer": "ipython3",
   "version": "3.8.8"
  }
 },
 "nbformat": 4,
 "nbformat_minor": 5
}
